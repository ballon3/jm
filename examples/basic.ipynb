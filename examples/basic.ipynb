{
 "cells": [
  {
   "cell_type": "code",
   "execution_count": null,
   "metadata": {},
   "outputs": [],
   "source": [
    "import jm"
   ]
  },
  {
   "cell_type": "code",
   "execution_count": null,
   "metadata": {},
   "outputs": [],
   "source": [
    "gj = {\n",
    "  \"type\": \"FeatureCollection\",\n",
    "  \"features\": [\n",
    "    {\n",
    "      \"type\": \"Feature\",\n",
    "      \"properties\": {\n",
    "          \"fill-opacity\": 0.5,\n",
    "          \"fill-color\": \"#FF0000\",\n",
    "          \"fill-outline-color\": \"#000000\"\n",
    "      },\n",
    "      \"geometry\": {\n",
    "        \"type\": \"Polygon\",\n",
    "        \"coordinates\": [\n",
    "          [\n",
    "            [\n",
    "              -52.3828125,\n",
    "              19.642587534013032\n",
    "            ],\n",
    "            [\n",
    "              31.289062500000004,\n",
    "              18.979025953255267\n",
    "            ],\n",
    "            [\n",
    "              30.937499999999996,\n",
    "              62.431074232920906\n",
    "            ],\n",
    "            [\n",
    "              -64.3359375,\n",
    "              55.7765730186677\n",
    "            ],\n",
    "            [\n",
    "              -52.3828125,\n",
    "              19.642587534013032\n",
    "            ]\n",
    "          ]\n",
    "        ]\n",
    "      }\n",
    "    }\n",
    "  ]\n",
    "}"
   ]
  },
  {
   "cell_type": "code",
   "execution_count": null,
   "metadata": {},
   "outputs": [],
   "source": [
    "jm.init(\"YOUR MAPBOX GL JS ACCESS TOKEN\")"
   ]
  },
  {
   "cell_type": "code",
   "execution_count": null,
   "metadata": {},
   "outputs": [],
   "source": [
    "m = jm.Map()\n",
    "m.add_layer(jm.layers.Fill(jm.sources.GeoJSON(gj)))\n",
    "m"
   ]
  }
 ],
 "metadata": {
  "kernelspec": {
   "display_name": "Python 3",
   "language": "python",
   "name": "python3"
  },
  "language_info": {
   "codemirror_mode": {
    "name": "ipython",
    "version": 3
   },
   "file_extension": ".py",
   "mimetype": "text/x-python",
   "name": "python",
   "nbconvert_exporter": "python",
   "pygments_lexer": "ipython3",
   "version": "3.6.2"
  }
 },
 "nbformat": 4,
 "nbformat_minor": 2
}
