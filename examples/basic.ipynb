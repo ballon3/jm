{
 "cells": [
  {
   "cell_type": "code",
   "execution_count": null,
   "metadata": {},
   "outputs": [],
   "source": [
    "import jm"
   ]
  },
  {
   "cell_type": "code",
   "execution_count": null,
   "metadata": {},
   "outputs": [],
   "source": [
    "gj = {\n",
    "  \"type\": \"FeatureCollection\",\n",
    "  \"features\": [\n",
    "    {\n",
    "      \"type\": \"Feature\",\n",
    "      \"properties\": {\n",
    "          \"popup\": \"<h1>Wazzap</h1>\",\n",
    "          \"fill-opacity\": 0.5,\n",
    "          \"fill-color\": \"#FF0000\",\n",
    "          \"fill-outline-color\": \"#000000\"\n",
    "      },\n",
    "      \"geometry\": {\n",
    "        \"type\": \"Polygon\",\n",
    "        \"coordinates\": [\n",
    "          [\n",
    "            [\n",
    "              -78.94775390625,\n",
    "              40.613952441166596\n",
    "            ],\n",
    "            [\n",
    "              -76.0693359375,\n",
    "              41.21172151054787\n",
    "            ],\n",
    "            [\n",
    "              -75.30029296875,\n",
    "              42.342305278572816\n",
    "            ],\n",
    "            [\n",
    "              -78.77197265625,\n",
    "              42.45588764197166\n",
    "            ],\n",
    "            [\n",
    "              -78.94775390625,\n",
    "              40.613952441166596\n",
    "            ]\n",
    "          ]\n",
    "        ]      \n",
    "      }\n",
    "    }\n",
    "  ]\n",
    "}"
   ]
  },
  {
   "cell_type": "code",
   "execution_count": null,
   "metadata": {},
   "outputs": [],
   "source": [
    "jm.init(MAPBOX_GL_JS_ACCESS_TOKEN)"
   ]
  },
  {
   "cell_type": "code",
   "execution_count": null,
   "metadata": {},
   "outputs": [],
   "source": [
    "jm.gj(gj, popup=\"popup\", padding=20)"
   ]
  },
  {
   "cell_type": "code",
   "execution_count": null,
   "metadata": {},
   "outputs": [],
   "source": [
    "m = jm.Map()\n",
    "m"
   ]
  },
  {
   "cell_type": "code",
   "execution_count": null,
   "metadata": {},
   "outputs": [],
   "source": [
    "s = jm.sources.GeoJSON(gj)\n",
    "m.add_layer(jm.layers.Fill(s, popup=\"popup\"))\n",
    "m.fit_source(s, padding=20)"
   ]
  }
 ],
 "metadata": {
  "kernelspec": {
   "display_name": "Python 3",
   "language": "python",
   "name": "python3"
  },
  "language_info": {
   "codemirror_mode": {
    "name": "ipython",
    "version": 3
   },
   "file_extension": ".py",
   "mimetype": "text/x-python",
   "name": "python",
   "nbconvert_exporter": "python",
   "pygments_lexer": "ipython3",
   "version": "3.6.2"
  }
 },
 "nbformat": 4,
 "nbformat_minor": 2
}
